{
  "nbformat": 4,
  "nbformat_minor": 0,
  "metadata": {
    "colab": {
      "provenance": []
    },
    "kernelspec": {
      "name": "python3",
      "display_name": "Python 3"
    },
    "language_info": {
      "name": "python"
    }
  },
  "cells": [
    {
      "cell_type": "code",
      "source": [
        "class Node:\n",
        "  def __init__(self,item = None, next = None):\n",
        "    self.item = item\n",
        "    self.next = next\n"
      ],
      "metadata": {
        "id": "f7-pWreLmws6"
      },
      "execution_count": 14,
      "outputs": []
    },
    {
      "cell_type": "code",
      "source": [
        "class Cll:\n",
        "\n",
        "\n",
        "  def __init__(self,last = None):\n",
        "    self.last =last\n",
        "\n",
        "\n",
        "  def is_empty(self):\n",
        "    if self.last == None:\n",
        "      print(\"list is empty\")\n",
        "    else:\n",
        "      print(\"list is not empty\")\n",
        "\n",
        "\n",
        "  def insert_first(self,data):\n",
        "    n = Node(data)\n",
        "    if self.last == None:\n",
        "      self.last= n\n",
        "      n.next = n\n",
        "    else:\n",
        "      n.next = self.last.next\n",
        "      self.last.next = n\n",
        "\n",
        "\n",
        "  def print_list(self):\n",
        "    if self.last == None:\n",
        "      print(\"list is empty\")\n",
        "    else:\n",
        "      temp = self.last.next\n",
        "      if temp.item != self.last:\n",
        "        print(temp.item, end = \" \")\n",
        "        temp = temp.next\n",
        "        while temp  != self.last:\n",
        "          print(temp.item, end = \" \")\n",
        "          temp = temp.next\n",
        "        if temp == self.last:\n",
        "          print(temp.item, end = \" \")\n",
        "\n",
        "\n",
        "\n",
        "  def insert_last(self, data):\n",
        "    n= Node(data)\n",
        "    if self.last == None:\n",
        "      self.last = n\n",
        "      n.next = n\n",
        "    else:\n",
        "      n.next = self.last.next\n",
        "      self.last.next = n\n",
        "      self.last = n\n",
        "\n",
        "\n",
        "  def insert_after(self, temp , data):\n",
        "    n = Node(data)\n",
        "\n",
        "    if self.last is None:\n",
        "      print(\"list is empty\")\n",
        "    else:\n",
        "      if self.last.item == temp:\n",
        "        n.next = self.last.next\n",
        "        self.last.next = n\n",
        "        self.last = n\n",
        "      else:\n",
        "        t1 = self.last.next\n",
        "        if t1.item == temp:\n",
        "          n.next = t1.next\n",
        "          t1.next = n\n",
        "        else:\n",
        "          while t1 != self.last:\n",
        "            if t1.item == temp:\n",
        "              n.next = t1.next\n",
        "              t1.next = n\n",
        "            t1 = t1.next\n",
        "\n",
        "  def delete_first(self):\n",
        "    if self.last is None:\n",
        "      print(\"list is empty\")\n",
        "    else:\n",
        "      self.last.next = self.last.next.next\n",
        "\n",
        "\n",
        "  def delete_last(self):\n",
        "    if self.last == None:\n",
        "      print(\"list is empty\")\n",
        "    else:\n",
        "      if self.last.next == self.last:\n",
        "        self.last = None\n",
        "        print(\"Now,list is empty\")\n",
        "      else:\n",
        "        temp = self.last.next\n",
        "        while temp.next != self.last:\n",
        "          temp = temp.next\n",
        "        temp.next = self.last.next\n",
        "        self.last = temp\n",
        "\n",
        "\n",
        "  def delete_value(self,data):\n",
        "\n",
        "    if self.last == None:\n",
        "      print(\"list is empty\")\n",
        "    else:\n",
        "      temp = self.last.next\n",
        "      if temp.item == data:\n",
        "        self.delete_first()\n",
        "      else:\n",
        "        while temp.next != self.last:\n",
        "          if temp.next.item == data:\n",
        "            temp.next = temp.next.next\n",
        "          temp = temp.next\n",
        "          if temp.next == self.last:\n",
        "            if temp.next.item == data:\n",
        "              self.delete_last()\n",
        "\n",
        "  def __iter__(self):\n",
        "    if self.last == None:\n",
        "      return Cll_iterator(None)\n",
        "    else:\n",
        "      return Cll_iterator(self.last.next)\n",
        "\n",
        "\n",
        "\n",
        "\n",
        "class Cll_iterator:\n",
        "  def __init__(self,start):\n",
        "    self.current = start\n",
        "    self.start = start\n",
        "    self.count = 0\n",
        "  def __iter__(self):\n",
        "    return self\n",
        "  def __next__(self):\n",
        "    if self.current is None:\n",
        "      raise StopIteration\n",
        "    if self.current == self.start and self.count == 1:\n",
        "      raise StopIteration\n",
        "    else:\n",
        "      self.count = 1\n",
        "    data = self.current.item\n",
        "    self.current = self.current.next\n",
        "\n",
        "    return data\n",
        "\n"
      ],
      "metadata": {
        "id": "Ic84ogfxWh_J"
      },
      "execution_count": 72,
      "outputs": []
    },
    {
      "cell_type": "code",
      "source": [
        "c1 = Cll()\n",
        "c1.insert_first(20)\n",
        "c1.insert_after(20,30)\n",
        "c1.insert_after(30,40)\n",
        "c1.insert_after(40,45)\n",
        "c1.insert_after(40,90)\n",
        "c1.print_list()\n",
        "print()\n",
        "c1.delete_last()\n",
        "c1.delete_first()\n",
        "c1.delete_last()\n",
        "c1.print_list()"
      ],
      "metadata": {
        "id": "oVDpb7zlY19B",
        "colab": {
          "base_uri": "https://localhost:8080/"
        },
        "outputId": "6c93c826-d718-407a-e7c0-f239aafbff60"
      },
      "execution_count": 73,
      "outputs": [
        {
          "output_type": "stream",
          "name": "stdout",
          "text": [
            "20 30 40 90 45 \n",
            "30 40 "
          ]
        }
      ]
    },
    {
      "cell_type": "code",
      "source": [
        "c2 = Cll()\n",
        "c2.delete_value(20)\n",
        "c2.insert_first(40)\n",
        "c2.insert_first(30)\n",
        "c2.insert_first(10)\n",
        "c2.insert_after(10,20)\n",
        "c2.insert_last(50)\n",
        "c2.insert_last(70)\n",
        "c2.insert_after(50,60)\n",
        "c2.print_list()\n",
        "print()\n",
        "c2.delete_value(10)\n",
        "c2.delete_value(70)\n",
        "c2.delete_value(40)\n",
        "c2.delete_value(30)\n",
        "c2.print_list()"
      ],
      "metadata": {
        "colab": {
          "base_uri": "https://localhost:8080/"
        },
        "id": "s0xoCy7m5wR1",
        "outputId": "f7127eeb-46ef-413d-a2bf-f125538d850c"
      },
      "execution_count": 74,
      "outputs": [
        {
          "output_type": "stream",
          "name": "stdout",
          "text": [
            "list is empty\n",
            "10 20 30 40 50 60 70 \n",
            "20 50 60 "
          ]
        }
      ]
    },
    {
      "cell_type": "code",
      "source": [
        "for x in c2:\n",
        "  print(x,end=\" \")\n",
        "print()"
      ],
      "metadata": {
        "id": "D9HQqcFzHtfs",
        "colab": {
          "base_uri": "https://localhost:8080/"
        },
        "outputId": "2179527e-a615-4332-ddd0-8c9bef29e649"
      },
      "execution_count": 75,
      "outputs": [
        {
          "output_type": "stream",
          "name": "stdout",
          "text": [
            "20 50 60 \n"
          ]
        }
      ]
    },
    {
      "cell_type": "code",
      "source": [],
      "metadata": {
        "id": "7NR0TX4IAxLg"
      },
      "execution_count": null,
      "outputs": []
    }
  ]
}